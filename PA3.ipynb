{
 "cells": [
  {
   "cell_type": "markdown",
   "id": "1e38218e",
   "metadata": {},
   "source": [
    "### Programming Assignment 3\n",
    "##### Author: Nick Romano\n",
    "##### Version 1.0\n",
    "##### Fall 2021 CS 150-02: Computer Programming for Liberal Arts"
   ]
  },
  {
   "cell_type": "code",
   "execution_count": 1,
   "id": "b497a43e",
   "metadata": {},
   "outputs": [
    {
     "name": "stdout",
     "output_type": "stream",
     "text": [
      "Enter the length of side A: 5\n",
      "Enter the length of side B: 5\n",
      "Enter the length of side C: 5\n",
      "The area of the triangle is approximately 10.825317547305483 square units.\n",
      "The perimeter of the triagnle is 15 linear units.\n",
      "\n",
      "Enter the length of side A: 12\n",
      "Enter the length of side B: 16\n",
      "Enter the length of side C: 21\n",
      "The area of the triangle is approximately 95.4512310030625 square units.\n",
      "The perimeter of the triagnle is 49 linear units.\n",
      "\n",
      "Area = calcArea()\n",
      "Perimeter = calcPerimeter()\n",
      "The area of the triangle is approximately 0.4330127018922193 square units.\n",
      "The perimeter of the triagnle is 3 linear units.\n"
     ]
    }
   ],
   "source": [
    "from math import sqrt\n",
    "\n",
    "def calcArea(sideA = 1, sideB = 1, sideC = 1):\n",
    "    s = (sideA + sideB + sideC) / 2\n",
    "    area = sqrt(s * (s - sideA) * (s - sideB) * (s - sideC))\n",
    "    print(f\"The area of the triangle is approximately {area} square units.\")\n",
    "    \n",
    "def calcPerimeter(sideA = 1, sideB = 1, sideC = 1):\n",
    "    perimeter = sideA + sideB + sideC\n",
    "    print(f\"The perimeter of the triagnle is {perimeter} linear units.\")\n",
    "\n",
    "sideA = int(input(\"Enter the length of side A: \"))\n",
    "sideB = int(input(\"Enter the length of side B: \"))\n",
    "sideC = int(input(\"Enter the length of side C: \"))\n",
    "calcArea(sideA, sideB, sideC)\n",
    "calcPerimeter(sideA, sideB, sideC)\n",
    "print(\"\")\n",
    "\n",
    "sideA = int(input(\"Enter the length of side A: \"))\n",
    "sideB = int(input(\"Enter the length of side B: \"))\n",
    "sideC = int(input(\"Enter the length of side C: \"))\n",
    "calcArea(sideA, sideB, sideC)\n",
    "calcPerimeter(sideA, sideB, sideC)\n",
    "print(\"\")\n",
    "\n",
    "print(\"Area = calcArea()\")\n",
    "print(\"Perimeter = calcPerimeter()\")\n",
    "calcArea()\n",
    "calcPerimeter()"
   ]
  },
  {
   "cell_type": "code",
   "execution_count": 2,
   "id": "9199c4a3",
   "metadata": {},
   "outputs": [
    {
     "name": "stdout",
     "output_type": "stream",
     "text": [
      "Try to guess a number from 1 to 1000 that has been randomly selected by the computer\n",
      "\n",
      "Enter your guess: 500\n",
      "Too low! Try again.\n",
      "Enter your guess: 600\n",
      "Too low! Try again.\n",
      "Enter your guess: 700\n",
      "Too low! Try again.\n",
      "Enter your guess: 800\n",
      "Too low! Try again.\n",
      "Enter your guess: 900\n",
      "Too low! Try again.\n",
      "Enter your guess: 950\n",
      "Too high! Try again.\n",
      "Enter your guess: 925\n",
      "Too high! Try again.\n",
      "Enter your guess: 912\n",
      "Too low! Try again.\n",
      "Enter your guess: 920\n",
      "Too high! Try again.\n",
      "Enter your guess: 915\n",
      "Too low! Try again.\n",
      "Enter your guess: 918\n",
      "Too low! Try again.\n",
      "Enter your guess: 919\n",
      "Correct!\n"
     ]
    }
   ],
   "source": [
    "import random\n",
    "\n",
    "def evaluateGuess():\n",
    "    print(\"Try to guess a number from 1 to 1000 that has been randomly selected by the computer\\n\")\n",
    "    random_number = random.randint(1,1000)\n",
    "    guessed_number = int(input(\"Enter your guess: \"))\n",
    "    while 1 <= guessed_number <= 1000:\n",
    "        if guessed_number > random_number:\n",
    "            print(\"Too high! Try again.\")\n",
    "        elif guessed_number < random_number:\n",
    "            print(\"Too low! Try again.\")\n",
    "        else:\n",
    "            print(\"Correct!\")\n",
    "            break\n",
    "        guessed_number = int(input(\"Enter your guess: \"))\n",
    "\n",
    "evaluateGuess()"
   ]
  },
  {
   "cell_type": "code",
   "execution_count": 3,
   "id": "60bb3c33",
   "metadata": {},
   "outputs": [
    {
     "name": "stdout",
     "output_type": "stream",
     "text": [
      "The mean temperature over the last 7 days is 88.0 degrees F.\n",
      "The mean temperature over the last 5 days is 88.2 degrees F.\n",
      "The mean temperature over the last 2 days is 90.0 degrees F.\n"
     ]
    }
   ],
   "source": [
    "def meanTemp(*args):\n",
    "    mean = sum(args) / len(args)\n",
    "    print(f\"The mean temperature over the last {len(args)} days is {mean} degrees F.\")\n",
    "\n",
    "meanTemp(93, 87, 85, 86, 90, 90, 85)\n",
    "meanTemp(93, 87, 85, 86, 90)\n",
    "meanTemp(93, 87)"
   ]
  }
 ],
 "metadata": {
  "kernelspec": {
   "display_name": "Python 3",
   "language": "python",
   "name": "python3"
  },
  "language_info": {
   "codemirror_mode": {
    "name": "ipython",
    "version": 3
   },
   "file_extension": ".py",
   "mimetype": "text/x-python",
   "name": "python",
   "nbconvert_exporter": "python",
   "pygments_lexer": "ipython3",
   "version": "3.8.8"
  }
 },
 "nbformat": 4,
 "nbformat_minor": 5
}
